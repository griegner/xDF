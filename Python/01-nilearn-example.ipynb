{
 "cells": [
  {
   "cell_type": "markdown",
   "metadata": {},
   "source": [
    "### Effective degrees of freedom of the Pearson's correlation coefficient under autocorrelation\n",
    "\n",
    "Functional connectivity refers to the temporal dependence between pairs of brain regions measured with fMRI. This can be quantified using Pearson's correlation, but this measure is biased if the timeseries themselves are autocorrelated. This is often the case with fMRI data because of low frequency oscillatory patterns in the BOLD timecourse. The severity of autocorrelation can vary depending on the parcellation atlas used to divide the brain into regions of interest (ROIs), and the size and location of these ROIs within the brain.  \n",
    "\n",
    "The \"xDF\" method proposed by [Afyouni, Smith, and Nichols (2019)](https://www.sciencedirect.com/science/article/pii/S1053811919303945) addresses autocorrelation within each distinct ROI as well as instantaneous and lagged cross-correlation between ROI pairs. Simulations under the null setting (no cross-correlation between ROIs) show that xDF correction has better control of false positives when compared to no correction or methods based on more simplistic autocorrelation assumptions. Further, simulations with realistic autocorrelation and non-null cross-correlation show that xDF has negligible bias across increasing degrees of autocorrelation.\n",
    "\n",
    "In summary, the xDF method has better control of false positives and unbiased standard errors over a range of settings. The authors recommend the use of xDF when computing functional connectivity statistics that depend on the standard errors of correlation coefficients - such as standardized Z-scores, graph theoretical measures, of mixed-effects models. "
   ]
  },
  {
   "cell_type": "markdown",
   "metadata": {},
   "source": [
    "**Retrieve the data and atlases (Yeo 2011, Power 2011)**"
   ]
  },
  {
   "cell_type": "code",
   "execution_count": null,
   "metadata": {},
   "outputs": [],
   "source": [
    "import ac_utils\n",
    "import numpy as np\n",
    "import xdf\n",
    "from matplotlib import pyplot as plt\n",
    "from nilearn import (connectome, datasets, glm, image, maskers, plotting,\n",
    "                     regions)\n",
    "from scipy.spatial.distance import euclidean\n",
    "\n",
    "# fetch fMRIPrep functional data and confounds (from 33 subjects)\n",
    "data = datasets.fetch_development_fmri(age_group=\"adult\")\n",
    "mni = datasets.fetch_icbm152_2009()\n",
    "mask = image.resample_to_img(mni.mask, data.func[0], interpolation=\"nearest\")\n",
    "\n",
    "# fetch atlases\n",
    "yeo = datasets.fetch_atlas_yeo_2011().thick_17\n",
    "\n",
    "# assign each region of yeo atlas to a unique label\n",
    "yeo = regions.connected_label_regions(yeo, min_size=100)\n",
    "\n",
    "power = (\n",
    "    datasets.fetch_coords_power_2011(legacy_format=False)\n",
    "    .rois[[\"x\", \"y\", \"z\"]]\n",
    "    .to_numpy()\n",
    ")\n",
    "\n",
    "\n",
    "# initialze maskers\n",
    "kwargs = dict(standardize=True, memory=\"nilearn_cache\")\n",
    "masker_voxels = maskers.NiftiMasker(mask_img=mask, reports=False, **kwargs)\n",
    "masker_yeo = maskers.NiftiLabelsMasker(labels_img=yeo, reports=False, **kwargs)\n",
    "masker_power = maskers.NiftiSpheresMasker(seeds=power, radius=5, **kwargs)"
   ]
  },
  {
   "cell_type": "markdown",
   "metadata": {},
   "source": [
    "**Show the difference in autocorrelation structure between two regions**"
   ]
  },
  {
   "cell_type": "code",
   "execution_count": null,
   "metadata": {},
   "outputs": [],
   "source": [
    "# extract mean timeseries for each region of the yeo atlas\n",
    "X_ex = masker_yeo.fit_transform(data.func[-1], confounds=data.confounds[-1])\n",
    "n_timepoints = X_ex.shape[0]\n",
    "\n",
    "# calculate the full-lag autocorrelation function using FFT\n",
    "X_ac, ci = ac_utils.ac_fft(X_ex.T, X_ex.shape[0])\n",
    "\n",
    "# plot two example regions (first 30 lags)\n",
    "fig, ax = plt.subplots(figsize=(4, 3))\n",
    "ax.plot(X_ac[5, :30], lw=0.8, c=\"k\", label=\"region 5\")\n",
    "ax.plot(X_ac[92, :30], lw=0.8, c=\"r\", label=\"region 92\")\n",
    "ax.legend()\n",
    "ax.set_xlabel(\"Lag\")\n",
    "ax.set_ylabel(r\"Autocorrelation ( $\\rho_{XX}$ )\")\n",
    "\n",
    "# plot confidence intervals\n",
    "ax.hlines(ci, 0, 30, lw=0.5, color=\"k\", linestyle=\"dashed\")\n",
    "ax.text(25, ci[1] + 0.02, \"95% CI\", fontsize=8)\n"
   ]
  },
  {
   "cell_type": "markdown",
   "metadata": {},
   "source": [
    "**Extract the timeseries data from voxels and regions defined by the atlases**\n",
    "\n",
    "For each voxel/region in $X$, calculate the autocorrelation index (ACI) to summarize the strength of autocorrelation.\n",
    "\n",
    "\\begin{equation}\n",
    "\\tau_X = \\sum_{i=0}^{N-1} \\rho^2_{XX, i}\n",
    "\\end{equation}"
   ]
  },
  {
   "cell_type": "code",
   "execution_count": null,
   "metadata": {},
   "outputs": [],
   "source": [
    "# !!! 3 min runtime !!!\n",
    "\n",
    "\n",
    "def calc_aci(X, n_timepoints):\n",
    "    \"\"\"return the autcorrelation index for each voxel/region\"\"\"\n",
    "    X_ac, _ = ac_utils.ac_fft(X, n_timepoints)\n",
    "    return np.sum(X_ac**2, axis=1)\n",
    "\n",
    "\n",
    "aci = {\"voxels\": [], \"yeo\": [], \"power\": []}\n",
    "\n",
    "# loop over subjects\n",
    "for func, confounds in zip(data.func, data.confounds):\n",
    "\n",
    "    # voxelwise autocorrelation index\n",
    "    X_voxels = masker_voxels.fit_transform(func, confounds=confounds)\n",
    "    aci[\"voxels\"].append(calc_aci(X_voxels.T, n_timepoints=n_timepoints))\n",
    "\n",
    "    # yeo atlas autocorrelation index\n",
    "    X_yeo = masker_yeo.fit_transform(func, confounds=confounds)\n",
    "    aci[\"yeo\"].append(calc_aci(X_yeo.T, n_timepoints=n_timepoints))\n",
    "\n",
    "    # power atlas autocorrelation index\n",
    "    X_power = masker_power.fit_transform(func, confounds=confounds)\n",
    "    aci[\"power\"].append(calc_aci(X_power.T, n_timepoints=n_timepoints))\n",
    "\n",
    "# average across subjects\n",
    "aci = {key: np.array(val).mean(axis=0) for key, val in aci.items()}\n"
   ]
  },
  {
   "cell_type": "markdown",
   "metadata": {},
   "source": [
    "**Map the variation in strength of autocorrelation over the brain, averaged across subjects**\n",
    "\n",
    "The degree of autocorrelation in fMRI data is heterogeneous over the brain. Using a parcellation scheme magnifies this effect because of averaging voxels within regions - larger regions have a higher ACI. This demonstrates the importance of node-specific autocorrelation adjustment."
   ]
  },
  {
   "cell_type": "code",
   "execution_count": null,
   "metadata": {},
   "outputs": [],
   "source": [
    "plot_kwargs = dict(\n",
    "    threshold=1, vmax=3.5, annotate=False, draw_cross=False, colorbar=False\n",
    ")\n",
    "\n",
    "# voxelwise autocorrelation index\n",
    "plotting.plot_stat_map(\n",
    "    masker_voxels.inverse_transform(aci[\"voxels\"]),\n",
    "    title=\"Voxel-wise\",\n",
    "    display_mode=\"z\",\n",
    "    cut_coords=(-20, 0, 30),\n",
    "    **plot_kwargs,\n",
    ")\n",
    "\n",
    "# yeo atlas autocorrelation index\n",
    "plotting.plot_stat_map(\n",
    "    masker_yeo.inverse_transform(aci[\"yeo\"]),\n",
    "    title=\"Yeo 2011\",\n",
    "    **plot_kwargs,\n",
    ")\n",
    "\n",
    "# power atlas autocorrelation index\n",
    "plotting.plot_markers(\n",
    "    aci[\"power\"],\n",
    "    power,\n",
    "    title=\"Power 2011\",\n",
    "    node_cmap=\"autumn\",\n",
    "    node_vmin=1,\n",
    "    node_vmax=3.5,\n",
    "    node_size=20,\n",
    "    annotate=False,\n",
    ")\n"
   ]
  },
  {
   "cell_type": "markdown",
   "metadata": {},
   "source": [
    "**Cortical nodes have systematically higher autocorrelation than subcortical nodes**\n",
    "\n",
    "Plot ACI versus distance to the center of the brain (thalamus) using the Power atlas which has identically-sized spherical nodes."
   ]
  },
  {
   "cell_type": "code",
   "execution_count": null,
   "metadata": {},
   "outputs": [],
   "source": [
    "center = [0, -12, 4]  # fig2-D, thalamus coordinates\n",
    "\n",
    "# calculate euclidean distance to thalamus for each region\n",
    "distances = [euclidean(center, coords) for coords in power]\n",
    "\n",
    "# plot results\n",
    "fig, ax = plt.subplots(figsize=(4, 3))\n",
    "\n",
    "ax.scatter(distances, aci[\"power\"], alpha=0.5, s=10, c=\"k\")\n",
    "ax.set_title(\"Power Atlas\")\n",
    "ax.set_xlabel(f\"Euclidean Distance to {center}\")\n",
    "ax.set_ylabel(r\"Autocorrelation Index ($\\tau$)\")\n"
   ]
  },
  {
   "cell_type": "markdown",
   "metadata": {},
   "source": [
    "**Larger nodes have systematically higher autocorrelation than smaller nodes**  \n",
    "\n",
    "Plot ACI versus region size using the Yeo atlas defining 95 different sized regions."
   ]
  },
  {
   "cell_type": "code",
   "execution_count": null,
   "metadata": {},
   "outputs": [],
   "source": [
    "yeo_data = image.get_data(yeo)\n",
    "\n",
    "# loop through yeo regions\n",
    "sizes = [\n",
    "    len(yeo_data[yeo_data == region]) ** (1 / 3) for region in np.unique(yeo_data)[1:]\n",
    "]\n",
    "\n",
    "# plot results\n",
    "fig, ax = plt.subplots(figsize=(4, 3))\n",
    "ax.scatter(sizes, aci[\"yeo\"], alpha=0.5, s=10, c=\"k\")\n",
    "ax.set_title(\"Yeo Atlas\")\n",
    "ax.set_xlabel(r\"$\\sqrt[3]{ROI size}$ (voxel)\")\n",
    "ax.set_ylabel(r\"Autocorrelation Index ($\\tau$)\")\n"
   ]
  },
  {
   "cell_type": "markdown",
   "metadata": {},
   "source": [
    "**Variance of sample correlation coefficients**\n",
    "\n",
    "The xDF formula provides estimates of the standard errors of correlation coefficients accounting for \n",
    "1) autocorrelations within each node timeseries ($\\rho_{XX}, \\rho_{YY}$) and \n",
    "2) instantaneous ($\\rho_{XY,0}$) and lagged ($\\rho_{XY, \\pm i}$) cross-correlations between node pairs.\n",
    "\n",
    "\\begin{aligned}\n",
    "V(\\hat{\\rho}_{xy, 0}) &= N^{-2} [(N - 2) (1 - \\rho^2)] \\\\\n",
    "&+ \\rho^2 \\sum_i^M w_i (\\rho^2_{xx, i} + \\rho^2_{yy, i} + \\rho^2_{xy, +i} + \\rho^2_{xy, -i}) \\\\\n",
    "&- 2\\rho \\sum_i^M w_i (\\rho_{xx, i} + \\rho_{yy, i}) (\\rho_{xy, +i} + {\\rho_{xy, -i}}) \\\\\n",
    "&+ 2 \\sum_i^M w_i (\\rho_{xx, i} + \\rho_{yy, i} + \\rho_{xy, +i} * \\rho_{xy, -i})\n",
    "\\end{aligned}"
   ]
  },
  {
   "cell_type": "markdown",
   "metadata": {},
   "source": [
    "**Generate null realizations by randomly exchanging regions between subjects**  \n",
    "\n",
    "Due to the random nature of the resting-state BOLD timeseries between subjects, we expect 5% of the correlation coefficients between two randomly picked timeseries from subject $u$ and subject $q$, $\\hat{\\rho}_{u,q}$ to be significant at $\\alpha=0.05$ (i.e $\\approx$ 5 regions)."
   ]
  },
  {
   "cell_type": "code",
   "execution_count": null,
   "metadata": {},
   "outputs": [],
   "source": [
    "# swap `max_aci` between the two subjects\n",
    "X_u = masker_yeo.fit_transform(data.func[0], confounds=data.confounds[0])\n",
    "X_p = masker_yeo.fit_transform(data.func[-1], confounds=data.confounds[-1])\n",
    "\n",
    "X_aci = calc_aci(X_u.T, n_timepoints=n_timepoints)\n",
    "max_aci = X_aci.argmax()\n",
    "min_aci = X_aci.argmin()\n",
    "\n",
    "X_null = np.concatenate((X_u[:, [min_aci, max_aci]], X_p), axis=1)\n"
   ]
  },
  {
   "cell_type": "markdown",
   "metadata": {},
   "source": [
    "**Evaluate the false positive rate control for testing $\\rho=0$ to illustrate the problem of inflated correlation estimates under autocorrelation**\n",
    "\n",
    "Ensure independence between timeseries by sampling each region in the analysis from different subjects. This null realization is used to evaluate the distributions of Z-scores and false positive rate (FPR). "
   ]
  },
  {
   "cell_type": "code",
   "execution_count": null,
   "metadata": {},
   "outputs": [],
   "source": [
    "# apply xDF adjustment when the null is true\n",
    "xdf_null = xdf.calc_xdf(X_null.T, n_timepoints=n_timepoints, truncate_variance=False)\n",
    "# extract null column vectors\n",
    "z_naive = xdf_null[\"znaive\"]\n",
    "z_xdf = xdf_null[\"z\"]\n",
    "\n",
    "# plot results\n",
    "fig, ax = plt.subplots(figsize=(4, 4))\n",
    "ax.scatter(z_naive[:, 0], z_xdf[:, 0], s=10, c=\"r\", label=\"min(ACI)\")  # min aci\n",
    "ax.scatter(z_naive[:, 1], z_xdf[:, 1], s=10, c=\"gold\", label=\"max(ACI)\")  # max aci\n",
    "\n",
    "limits = [-4, 4]\n",
    "ax.set_xlim(*limits)\n",
    "ax.set_ylim(*limits)\n",
    "ax.plot(limits, limits, c=\"k\", lw=0.5, ls=\"dashed\", label=\"Ref. Line\")\n",
    "\n",
    "ax.hlines([-1.96, 1.96], *limits, lw=0.5, color=\"r\", label=\"Uncorrected CV(xDF)\")\n",
    "ax.vlines([-1.96, 1.96], *limits, lw=0.5, color=\"b\", label=\"Uncorrected CV(Naive)\")\n",
    "ax.legend(bbox_to_anchor=(1.05, 1))\n",
    "\n",
    "ax.set_xlabel(\"Naive Z-scores\")\n",
    "ax.set_ylabel(\"xDF Adjusted Z-scores\")\n"
   ]
  },
  {
   "cell_type": "markdown",
   "metadata": {},
   "source": [
    "**statistical thresholding**  \n",
    "where FDR corrected $q = 0.05$ is used to test the significance of each edge"
   ]
  },
  {
   "cell_type": "code",
   "execution_count": null,
   "metadata": {},
   "outputs": [],
   "source": [
    "# apply xDF adjustment when the null not true\n",
    "aci_ex = calc_aci(X_ex.T, n_timepoints=n_timepoints)\n",
    "xdf_ex = xdf.calc_xdf(X_ex.T, n_timepoints=n_timepoints, truncate_variance=False)\n",
    "\n",
    "# find FDR-controlling threshold, and CE density threshold\n",
    "z_naive = connectome.sym_matrix_to_vec(xdf_ex[\"znaive\"], discard_diagonal=True)\n",
    "fdr_naive = glm.fdr_threshold(z_naive, alpha=0.05)\n",
    "\n",
    "z_xdf = connectome.sym_matrix_to_vec(xdf_ex[\"z\"], discard_diagonal=True)\n",
    "fdr_xdf = glm.fdr_threshold(z_xdf, alpha=0.05)\n",
    "\n",
    "\n",
    "# plot results\n",
    "fig, ax = plt.subplots(figsize=(5, 4))\n",
    "ax.scatter(z_naive, z_xdf, s=10, c=aci_ex.repeat(47), cmap=\"autumn\")\n",
    "\n",
    "# add colorbar\n",
    "sm = plt.cm.ScalarMappable(cmap=\"autumn\", norm=plt.Normalize(vmin=1, vmax=3.5))\n",
    "cbar = fig.colorbar(sm, ax=ax)\n",
    "cbar.set_label(r\"Autocorrelation Index ($\\tau$)\")\n",
    "\n",
    "limits = [-5, 15]\n",
    "ax.set_xlim(*limits)\n",
    "ax.set_ylim(*limits)\n",
    "ax.plot(limits, limits, c=\"k\", lw=0.5, ls=\"dashed\", label=\"Ref. Line\")\n",
    "\n",
    "ax.hlines([-fdr_naive, fdr_naive], *limits, lw=0.5, color=\"r\", label=\"FDR CV(Naive)\")\n",
    "ax.vlines([-fdr_xdf, fdr_xdf], *limits, lw=0.5, color=\"b\", label=\"FDR CV(xDF)\")\n",
    "ax.legend()\n",
    "\n",
    "ax.set_xlabel(\"Naive Z-scores\")\n",
    "ax.set_ylabel(\"xDF Adjusted Z-scores\")\n"
   ]
  }
 ],
 "metadata": {
  "kernelspec": {
   "display_name": "Python 3 (ipykernel)",
   "language": "python",
   "name": "python3"
  },
  "language_info": {
   "codemirror_mode": {
    "name": "ipython",
    "version": 3
   },
   "file_extension": ".py",
   "mimetype": "text/x-python",
   "name": "python",
   "nbconvert_exporter": "python",
   "pygments_lexer": "ipython3",
   "version": "3.10.6 | packaged by conda-forge | (main, Aug 22 2022, 20:41:54) [Clang 13.0.1 ]"
  },
  "vscode": {
   "interpreter": {
    "hash": "2d721758f3dbbdffe414b4c335ed427d5cd0b639c568a5b98d57a11d49a29147"
   }
  }
 },
 "nbformat": 4,
 "nbformat_minor": 1
}
